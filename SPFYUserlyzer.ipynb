{
 "cells": [
  {
   "cell_type": "code",
   "execution_count": 1,
   "metadata": {},
   "outputs": [],
   "source": [
    "# import dependencies\n",
    "from resources.config import strUsername, strPassword, strToken\n",
    "from splinter import Browser\n",
    "import lib.MakeUserTable\n",
    "import pandas as pd\n",
    "from simple_salesforce import Salesforce"
   ]
  },
  {
   "cell_type": "code",
   "execution_count": 2,
   "metadata": {},
   "outputs": [],
   "source": [
    "# connect to Salesforce API\n",
    "sf = Salesforce(username=strUsername, password=strPassword, security_token=strToken)"
   ]
  },
  {
   "cell_type": "code",
   "execution_count": 3,
   "metadata": {},
   "outputs": [],
   "source": [
    "# get active users\n",
    "lstActiveUser = sf.query(\"SELECT Id FROM User WHERE Profile.UserLicense.Name = 'Salesforce' AND IsActive = TRUE\")"
   ]
  },
  {
   "cell_type": "code",
   "execution_count": 4,
   "metadata": {},
   "outputs": [],
   "source": [
    "# set up splinter browser\n",
    "dictPath = {'executable_path': 'chromedriver.exe'}\n",
    "brsr = Browser('chrome', **dictPath, headless=False)"
   ]
  },
  {
   "cell_type": "code",
   "execution_count": 5,
   "metadata": {},
   "outputs": [],
   "source": [
    "# log in to Salesforce\n",
    "strURLLogin = 'https://login.salesforce.com/'\n",
    "brsr.visit(strURLLogin)\n",
    "brsr.fill('username', strUsername)\n",
    "brsr.fill('pw', strPassword)\n",
    "btnLogin = brsr.find_by_name('Login')\n",
    "btnLogin.click()"
   ]
  },
  {
   "cell_type": "code",
   "execution_count": 6,
   "metadata": {},
   "outputs": [],
   "source": [
    "# set up master dataframe\n",
    "dfUsers = pd.DataFrame(columns=['Record Type', 'Record Count'])"
   ]
  },
  {
   "cell_type": "code",
   "execution_count": 7,
   "metadata": {},
   "outputs": [],
   "source": [
    "# loop through all Active Users\n",
    "for rec in lstActiveUser['records']:\n",
    "    # visit User Storage webpage\n",
    "    strId = rec['Id']\n",
    "    strURLUser = 'https://na1.salesforce.com/setup/user/userstorageusage.jsp?id=' + strId\n",
    "    brsr.visit(strURLUser)\n",
    "    html = brsr.html\n",
    "    dfUser = lib.MakeUserTable.MakeUserTable(html, strId)\n",
    "    dfUsers = pd.concat([dfUser, dfUsers])"
   ]
  },
  {
   "cell_type": "code",
   "execution_count": 8,
   "metadata": {},
   "outputs": [],
   "source": [
    "dfUsers.to_excel('export.xlsx')"
   ]
  },
  {
   "cell_type": "code",
   "execution_count": 9,
   "metadata": {},
   "outputs": [
    {
     "data": {
      "text/plain": [
       "<bound method BaseWebDriver.quit of <splinter.driver.webdriver.chrome.WebDriver object at 0x000001BF18C307C8>>"
      ]
     },
     "execution_count": 9,
     "metadata": {},
     "output_type": "execute_result"
    }
   ],
   "source": [
    "# quit\n",
    "brsr.quit"
   ]
  }
 ],
 "metadata": {
  "kernelspec": {
   "display_name": "Python 3",
   "language": "python",
   "name": "python3"
  },
  "language_info": {
   "codemirror_mode": {
    "name": "ipython",
    "version": 3
   },
   "file_extension": ".py",
   "mimetype": "text/x-python",
   "name": "python",
   "nbconvert_exporter": "python",
   "pygments_lexer": "ipython3",
   "version": "3.7.6"
  }
 },
 "nbformat": 4,
 "nbformat_minor": 4
}
